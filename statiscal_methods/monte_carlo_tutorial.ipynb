{
 "cells": [
  {
   "cell_type": "code",
   "execution_count": 1,
   "id": "a1efc295",
   "metadata": {},
   "outputs": [],
   "source": [
    "import numpy as np\n",
    "\n",
    "# always set a seed for reproducibility while learning\n",
    "rng = np.random.default_rng(42)"
   ]
  },
  {
   "cell_type": "markdown",
   "id": "9f37595b",
   "metadata": {},
   "source": [
    "## 1) warm-up (low complexity): estimate π with a confidence interval\n",
    "\n",
    "Problem. Area of a unit circle = π. Throw points uniformly in the square \n",
    "[\n",
    "−\n",
    "1\n",
    ",\n",
    "1\n",
    "]\n",
    "2\n",
    "[−1,1]\n",
    "2\n",
    "; proportion inside circle × 4 ≈ π."
   ]
  },
  {
   "cell_type": "code",
   "execution_count": 22,
   "id": "8e51954c",
   "metadata": {},
   "outputs": [
    {
     "name": "stdout",
     "output_type": "stream",
     "text": [
      "[ True False  True ...  True  True  True]\n",
      "π ≈ 3.144732  |  SE ≈ 0.001640  |  95% CI: [3.141518, 3.147946]\n"
     ]
    }
   ],
   "source": [
    "def mc_pi(N=1_000_000, rng=np.random.default_rng(42)):\n",
    "    # sample N points in [-1, 1]^2 - This is basically simulating the random droppage of balls in that square\n",
    "    pts = rng.uniform(-1.0, 1.0, size=(N, 2))\n",
    "    # The below line is checking if the point is inside the circle x^2 + y^2 = 1\n",
    "    inside = (pts[:, 0]**2 + pts[:, 1]**2) <= 1.0\n",
    "    print (inside) # Observe that it has T, T, F, T, F, F etc.\n",
    "    # this below line sums up no. of Ts and divides by total number of points \n",
    "    phat = inside.mean()\n",
    "    \n",
    "    # Ratio of areas- represented in the below cell\n",
    "    # \\frac{N_{\\text{in}}}{N} \\approx \\frac{\\text{Area of circle}}{\\text{Area of square}} = \\frac{\\pi \\cdot r^2}{4} = \\frac{\\pi}{4}\n",
    "    \n",
    "    pi_hat = 4.0 * phat\n",
    "\n",
    "    # standard error via Bernoulli variance\n",
    "    var = phat * (1 - phat) / N\n",
    "    se = 4.0 * np.sqrt(var)\n",
    "\n",
    "    # 95% confidence interval using normal approx\n",
    "    ci = (pi_hat - 1.96 * se, pi_hat + 1.96 * se)\n",
    "    return pi_hat, se, ci\n",
    "\n",
    "pi_hat, se, ci = mc_pi(1_000_000, rng)\n",
    "print(f\"π ≈ {pi_hat:.6f}  |  SE ≈ {se:.6f}  |  95% CI: [{ci[0]:.6f}, {ci[1]:.6f}]\")\n"
   ]
  },
  {
   "cell_type": "markdown",
   "id": "965562c1",
   "metadata": {},
   "source": [
    "    Ratio of areas\n",
    "$$\n",
    "\\frac{N_{\\text{in}}}{N} \\approx \\frac{\\text{Area of circle}}{\\text{Area of square}} = \\frac{\\pi \\cdot r^2}{4} = \\frac{\\pi}{4}\n",
    "$$\n"
   ]
  },
  {
   "cell_type": "code",
   "execution_count": null,
   "id": "f78b3cbe",
   "metadata": {},
   "outputs": [],
   "source": []
  },
  {
   "cell_type": "code",
   "execution_count": 14,
   "id": "c91dda5e",
   "metadata": {},
   "outputs": [
    {
     "data": {
      "text/plain": [
       "array([[ 0.25249926, -0.9346904 , -0.28779169],\n",
       "       [-0.09252907,  0.78752204, -0.53006035],\n",
       "       [-0.75815962,  0.08588288,  0.12328329],\n",
       "       [-0.28337944,  0.81916842, -0.68464258],\n",
       "       [-0.39125213,  0.59479646, -0.2324236 ],\n",
       "       [-0.37596439,  0.26076136, -0.47032684],\n",
       "       [ 0.00395658, -0.97111217,  0.21274188],\n",
       "       [-0.78773885,  0.63891695,  0.95560284],\n",
       "       [-0.21295943,  0.17834823,  0.06104103],\n",
       "       [ 0.51480283,  0.22933792,  0.1738509 ]])"
      ]
     },
     "execution_count": 14,
     "metadata": {},
     "output_type": "execute_result"
    }
   ],
   "source": [
    "# try out what exactly this line does\n",
    "pts = rng.uniform(-1.0, 1.0, size=(10, 3))\n",
    "pts\n",
    "# nice!"
   ]
  },
  {
   "cell_type": "markdown",
   "id": "adb860c7",
   "metadata": {},
   "source": [
    "Data visualisation"
   ]
  },
  {
   "cell_type": "code",
   "execution_count": null,
   "id": "85a7011c",
   "metadata": {},
   "outputs": [
    {
     "name": "stdout",
     "output_type": "stream",
     "text": [
      "Bin counts: [ 99714 100227  99914 100039 100313  99986  99765  99899  99963 100180]\n",
      "Bin edges: [-9.99999750e-01 -7.99999832e-01 -5.99999913e-01 -3.99999995e-01\n",
      " -2.00000076e-01 -1.57793210e-07  1.99999761e-01  3.99999679e-01\n",
      "  5.99999598e-01  7.99999516e-01  9.99999434e-01]\n"
     ]
    },
    {
     "data": {
      "image/png": "[encoded data removed]",
      "text/plain": [
       "<Figure size 800x500 with 1 Axes>"
      ]
     },
     "metadata": {},
     "output_type": "display_data"
    }
   ],
   "source": [
    "import numpy as np\n",
    "import matplotlib.pyplot as plt\n",
    "\n",
    "# Choose bin edges or number of bins\n",
    "num_bins = 10  # You can change this\n",
    "hist_vals, bin_edges = np.histogram(pts, bins = num_bins)\n",
    "\n",
    "# Print bin counts and edges\n",
    "print(\"Bin counts:\", hist_vals)\n",
    "print(\"Bin edges:\", bin_edges)\n",
    "\n",
    "# Plot histogram\n",
    "plt.figure(figsize=(8,5))\n",
    "plt.hist(pts, bins=num_bins, color='skyblue', edgecolor='black', alpha=0.7)\n",
    "plt.title(\"Histogram with Binned Data\")\n",
    "plt.xlabel(\"Value\")\n",
    "plt.ylabel(\"Frequency\")\n",
    "plt.grid(True)\n",
    "plt.show()\n"
   ]
  },
  {
   "cell_type": "markdown",
   "id": "833ec2ef",
   "metadata": {},
   "source": [
    "variance reduction: antithetic variates\n",
    "\n",
    "Use negatively correlated samples to cut variance roughly in half for symmetric problems."
   ]
  },
  {
   "cell_type": "code",
   "execution_count": 5,
   "id": "42093b0f",
   "metadata": {},
   "outputs": [
    {
     "name": "stdout",
     "output_type": "stream",
     "text": [
      "Antithetic: π ≈ 3.144144  |  SE ≈ 0.001640\n"
     ]
    }
   ],
   "source": [
    "def mc_pi_antithetic(N=1_000_000, rng=np.random.default_rng(42)):\n",
    "    # generate N/2 samples, then reflect them (antithetic)\n",
    "    half = N // 2\n",
    "    u = rng.uniform(-1.0, 1.0, size=(half, 2))\n",
    "    u_bar = -u\n",
    "    pts = np.vstack([u, u_bar])\n",
    "    inside = (pts[:, 0]**2 + pts[:, 1]**2) <= 1.0\n",
    "    phat = inside.mean()\n",
    "    pi_hat = 4.0 * phat\n",
    "    # quick SE estimate from Bernoulli variance\n",
    "    var = phat * (1 - phat) / N\n",
    "    se = 4.0 * np.sqrt(var)\n",
    "    return pi_hat, se\n",
    "\n",
    "pi_hat2, se2 = mc_pi_antithetic(1_000_000, rng)\n",
    "print(f\"Antithetic: π ≈ {pi_hat2:.6f}  |  SE ≈ {se2:.6f}\")\n"
   ]
  },
  {
   "cell_type": "markdown",
   "id": "35ec8b6c",
   "metadata": {},
   "source": [
    "optional: quasi-Monte Carlo (Sobol) for faster convergence in practice"
   ]
  },
  {
   "cell_type": "code",
   "execution_count": 6,
   "id": "89893a09",
   "metadata": {},
   "outputs": [
    {
     "name": "stdout",
     "output_type": "stream",
     "text": [
      "Sobol: π ≈ 3.141836  |  pseudo-SE ≈ 0.001642\n"
     ]
    },
    {
     "name": "stderr",
     "output_type": "stream",
     "text": [
      "/tmp/ipykernel_98894/700409664.py:5: UserWarning: The balance properties of Sobol' points require n to be a power of 2.\n",
      "  pts01 = sam.random(N)          # in [0,1]^2\n"
     ]
    }
   ],
   "source": [
    "from scipy.stats import qmc\n",
    "\n",
    "def mc_pi_sobol(N=1_000_000):\n",
    "    sam = qmc.Sobol(d=2, scramble=True)\n",
    "    pts01 = sam.random(N)          # in [0,1]^2\n",
    "    pts = 2.0*pts01 - 1.0          # map to [-1,1]^2\n",
    "    inside = (pts[:,0]**2 + pts[:,1]**2) <= 1.0\n",
    "    pi_hat = 4.0 * inside.mean()\n",
    "    # SE is trickier for QMC; use plain MC formula as a rough proxy\n",
    "    phat = inside.mean()\n",
    "    se = 4.0*np.sqrt(phat*(1-phat)/N)\n",
    "    return pi_hat, se\n",
    "\n",
    "pi_hat3, se3 = mc_pi_sobol(1_000_000)\n",
    "print(f\"Sobol: π ≈ {pi_hat3:.6f}  |  pseudo-SE ≈ {se3:.6f}\")\n"
   ]
  },
  {
   "cell_type": "code",
   "execution_count": null,
   "id": "bcaa0273",
   "metadata": {},
   "outputs": [],
   "source": []
  }
 ],
 "metadata": {
  "kernelspec": {
   "display_name": ".venv",
   "language": "python",
   "name": "python3"
  },
  "language_info": {
   "codemirror_mode": {
    "name": "ipython",
    "version": 3
   },
   "file_extension": ".py",
   "mimetype": "text/x-python",
   "name": "python",
   "nbconvert_exporter": "python",
   "pygments_lexer": "ipython3",
   "version": "3.13.2"
  }
 },
 "nbformat": 4,
 "nbformat_minor": 5
}
