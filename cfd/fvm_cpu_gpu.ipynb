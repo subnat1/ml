{
 "cells": [
  {
   "cell_type": "code",
   "execution_count": 1,
   "id": "c7ab7f70",
   "metadata": {},
   "outputs": [],
   "source": [
    "import torch\n",
    "import matplotlib.pyplot as plt\n",
    "import numpy as np\n",
    "import time"
   ]
  },
  {
   "cell_type": "code",
   "execution_count": 2,
   "id": "77da0317",
   "metadata": {},
   "outputs": [
    {
     "name": "stdout",
     "output_type": "stream",
     "text": [
      "[1. 2.]\n"
     ]
    }
   ],
   "source": [
    "x = torch.tensor([1.0, 2.0])\n",
    "print(x.numpy())"
   ]
  },
  {
   "cell_type": "code",
   "execution_count": null,
   "id": "b618badb",
   "metadata": {},
   "outputs": [
    {
     "name": "stdout",
     "output_type": "stream",
     "text": [
      "Using device: cuda\n",
      "Step 0\n",
      "Step 500\n",
      "Step 1000\n",
      "Step 1500\n",
      "Step 2000\n",
      "Step 2500\n",
      "Step 3000\n",
      "Step 3500\n",
      "Step 4000\n",
      "Step 4500\n",
      "Simulation complete in 25.885 seconds\n",
      "Using device: cpu\n",
      "Step 0\n",
      "Step 500\n",
      "Step 1000\n",
      "Step 1500\n",
      "Step 2000\n",
      "Step 2500\n",
      "Step 3000\n",
      "Step 3500\n",
      "Step 4000\n"
     ]
    }
   ],
   "source": [
    "def do_stuff(dev = \"cuda\"):\n",
    "    # Start timer\n",
    "    start_time = time.time()\n",
    "\n",
    "    # Detect device\n",
    "    device = dev\n",
    "    # device = torch.device(\"cuda\" if torch.cuda.is_available() else \"cpu\")\n",
    "    print(f\"Using device: {device}\")\n",
    "    # device = \"cpu\"\n",
    "    # Geometry\n",
    "    Lx, Ly, Lz = 0.1, 0.08, 0.01  # meters\n",
    "    nx, ny, nz = 200, 160, 20 # 100, 80, 10\n",
    "    dx = Lx / nx\n",
    "    dy = Ly / ny\n",
    "    dz = Lz / nz\n",
    "\n",
    "    # Material and BCs\n",
    "    k = 1.0       # W/m·K\n",
    "    h = 0.1       # W/m²·K\n",
    "    T_inf = 300.0 # K\n",
    "\n",
    "    # Initialize fields\n",
    "    T = torch.ones((nx, ny, nz), device=device) * T_inf\n",
    "    Q = torch.zeros_like(T)\n",
    "\n",
    "    # Internal heat source of 5W in center 2x2 region\n",
    "    source_cells = 2 * 2 * 1\n",
    "    vol = dx * dy * dz\n",
    "    Q_val = 5.0 / (source_cells * vol)  # W/m³\n",
    "\n",
    "    Q[nx//2-1:nx//2+1, ny//2-1:ny//2+1, :] = Q_val\n",
    "\n",
    "    # Iterative solver\n",
    "    alpha = dx * dy * dz / k\n",
    "    for step in range(5000):\n",
    "        T_old = T.clone()\n",
    "\n",
    "        # Internal nodes update\n",
    "        T[1:-1,1:-1,:] = (\n",
    "            T_old[2:,1:-1,:] + T_old[:-2,1:-1,:] +\n",
    "            T_old[1:-1,2:,:] + T_old[1:-1,:-2,:] +\n",
    "            T_old[1:-1,1:-1,:] * 2 +  # z-direction has no neighbors\n",
    "            alpha * Q[1:-1,1:-1,:]\n",
    "        ) / 6.0\n",
    "\n",
    "        # Convective BC on all boundaries\n",
    "        conv_coeff = h * dx / k\n",
    "\n",
    "        # Left boundary (x=0)\n",
    "        T[0,1:-1,:] = (\n",
    "            T_old[1,1:-1,:] + T_old[0,2:,:] + T_old[0,:-2,:] + T_old[0,1:-1,:]*2 +\n",
    "            alpha * Q[0,1:-1,:] + conv_coeff * T_inf\n",
    "        ) / (5 + conv_coeff)\n",
    "\n",
    "        # Right boundary (x=nx-1)\n",
    "        T[-1,1:-1,:] = (\n",
    "            T_old[-2,1:-1,:] + T_old[-1,2:,:] + T_old[-1,:-2,:] + T_old[-1,1:-1,:]*2 +\n",
    "            alpha * Q[-1,1:-1,:] + conv_coeff * T_inf\n",
    "        ) / (5 + conv_coeff)\n",
    "\n",
    "        # Bottom boundary (y=0)\n",
    "        T[1:-1,0,:] = (\n",
    "            T_old[2:,0,:] + T_old[:-2,0,:] + T_old[1:-1,1,:] + T_old[1:-1,0,:]*2 +\n",
    "            alpha * Q[1:-1,0,:] + conv_coeff * T_inf\n",
    "        ) / (5 + conv_coeff)\n",
    "\n",
    "        # Top boundary (y=ny-1)\n",
    "        T[1:-1,-1,:] = (\n",
    "            T_old[2:,-1,:] + T_old[:-2,-1,:] + T_old[1:-1,-2,:] + T_old[1:-1,-1,:]*2 +\n",
    "            alpha * Q[1:-1,-1,:] + conv_coeff * T_inf\n",
    "        ) / (5 + conv_coeff)\n",
    "\n",
    "        # Print the step no.\n",
    "        if step % 500 == 0:\n",
    "            print(f\"Step {step}\")\n",
    "\n",
    "    # End timer\n",
    "    end_time = time.time()\n",
    "    print(f\"Simulation complete in {end_time - start_time:.3f} seconds\")\n",
    "\n",
    "    return T\n",
    "    \n",
    "# Run on GPU\n",
    "T = do_stuff(\"cuda\")\n",
    "\n",
    "# Run on CPU\n",
    "T = do_stuff(\"cpu\")"
   ]
  },
  {
   "cell_type": "code",
   "execution_count": null,
   "id": "acea1c68",
   "metadata": {},
   "outputs": [],
   "source": [
    "# Plot\n",
    "T_cpu = T[:,:,0].detach().cpu().numpy()\n",
    "plt.imshow(T_cpu.T, origin='lower', cmap='hot', extent=[0,Lx,0,Ly])\n",
    "plt.colorbar(label=\"Temperature (K)\")\n",
    "plt.title(\"FVM with Center Heat (5W) + Convective Sides (h=0.1)\")\n",
    "plt.xlabel(\"x (m)\")\n",
    "plt.ylabel(\"y (m)\")\n",
    "plt.show()"
   ]
  }
 ],
 "metadata": {
  "kernelspec": {
   "display_name": ".venv",
   "language": "python",
   "name": "python3"
  },
  "language_info": {
   "codemirror_mode": {
    "name": "ipython",
    "version": 3
   },
   "file_extension": ".py",
   "mimetype": "text/x-python",
   "name": "python",
   "nbconvert_exporter": "python",
   "pygments_lexer": "ipython3",
   "version": "3.12.6"
  }
 },
 "nbformat": 4,
 "nbformat_minor": 5
}
